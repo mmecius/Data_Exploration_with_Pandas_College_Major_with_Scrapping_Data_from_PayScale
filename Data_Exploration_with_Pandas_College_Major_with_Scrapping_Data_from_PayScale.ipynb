{
  "nbformat": 4,
  "nbformat_minor": 0,
  "metadata": {
    "colab": {
      "name": "Data Exploration with Pandas: College Major with Scrapping Data from PayScale.ipynb",
      "provenance": [],
      "collapsed_sections": [],
      "authorship_tag": "ABX9TyOMvMMS1cUhQbwPlRHCuRRN",
      "include_colab_link": true
    },
    "kernelspec": {
      "name": "python3",
      "display_name": "Python 3"
    },
    "language_info": {
      "name": "python"
    }
  },
  "cells": [
    {
      "cell_type": "markdown",
      "metadata": {
        "id": "view-in-github",
        "colab_type": "text"
      },
      "source": [
        "<a href=\"https://colab.research.google.com/github/mmecius/Data_Exploration_with_Pandas_College_Major_with_Scrapping_Data_from_PayScale/blob/main/Data_Exploration_with_Pandas_College_Major_with_Scrapping_Data_from_PayScale.ipynb\" target=\"_parent\"><img src=\"https://colab.research.google.com/assets/colab-badge.svg\" alt=\"Open In Colab\"/></a>"
      ]
    },
    {
      "cell_type": "code",
      "metadata": {
        "id": "yz3VVN8Qb750"
      },
      "source": [
        "import requests\n",
        "from bs4 import BeautifulSoup\n",
        "import pandas as pd\n",
        "import re\n",
        "\n",
        "URL = \"https://www.payscale.com/college-salary-report/majors-that-pay-you-back/bachelors\"\n",
        "\n",
        "data = requests.get(URL)"
      ],
      "execution_count": 62,
      "outputs": []
    },
    {
      "cell_type": "code",
      "metadata": {
        "id": "S4Zv7cX10f6F"
      },
      "source": [
        "page = []\n",
        "page_index = 1\n",
        "page_url = f'{URL}/page/{page_index}'\n",
        "soup = BeautifulSoup(data.text, 'html.parser')\n",
        "page_data = soup.find('div', class_='pagination')\n",
        "for i in page_data.find_all('a', class_='pagination__btn',href=True):\n",
        "    page_number = i.text\n",
        "    page.append(page_number)\n",
        "\n",
        "last_page = page[-2].split(',')\n",
        "\n",
        "def return_last_page(last_page):\n",
        "    for i in last_page:\n",
        "        return i"
      ],
      "execution_count": 63,
      "outputs": []
    },
    {
      "cell_type": "code",
      "metadata": {
        "id": "lCb6aH5gDKV9"
      },
      "source": [
        "headers = []\n",
        "for i in headers_raw:\n",
        "    for j in i:\n",
        "        headers.append(j)"
      ],
      "execution_count": 64,
      "outputs": []
    },
    {
      "cell_type": "code",
      "metadata": {
        "colab": {
          "base_uri": "https://localhost:8080/"
        },
        "id": "5rHnSAJqwx3F",
        "outputId": "4a5d4531-18fc-4f82-b745-ef83729f18f7"
      },
      "source": [
        "\n",
        "for i in range(1, int(return_last_page(last_page))+1):\n",
        "    data = requests.get(f'{URL}/page/{i}')\n",
        "    print(data)\n",
        "    soup = BeautifulSoup(data.text, 'html.parser')\n",
        "    page_data = soup.find('div', class_='pagination')\n",
        "    table_data = soup.find('table', class_='data-table')\n",
        "    headers_raw = []\n",
        "    for i in table_data.find_all('th'):\n",
        "        title = i.text.split(\"\\n\")[:1]\n",
        "        headers_raw.append(title)\n",
        "\n",
        "    df = pd.DataFrame(columns = headers)\n",
        "\n",
        "    for j in table_data.find_all('tr')[1:]:\n",
        "        row_data = j.find_all('td')\n",
        "        row = [tr.text.split(':')[1] for tr in row_data]\n",
        "        length = len(df)\n",
        "        df.loc[length] = row\n",
        "        df.to_csv('payscale_data.csv', mode='a')\n"
      ],
      "execution_count": 65,
      "outputs": [
        {
          "output_type": "stream",
          "text": [
            "<Response [200]>\n",
            "<Response [200]>\n",
            "<Response [200]>\n",
            "<Response [200]>\n",
            "<Response [200]>\n",
            "<Response [200]>\n",
            "<Response [200]>\n",
            "<Response [200]>\n",
            "<Response [200]>\n",
            "<Response [200]>\n",
            "<Response [200]>\n",
            "<Response [200]>\n",
            "<Response [200]>\n",
            "<Response [200]>\n",
            "<Response [200]>\n",
            "<Response [200]>\n",
            "<Response [200]>\n",
            "<Response [200]>\n",
            "<Response [200]>\n",
            "<Response [200]>\n",
            "<Response [200]>\n",
            "<Response [200]>\n",
            "<Response [200]>\n",
            "<Response [200]>\n",
            "<Response [200]>\n",
            "<Response [200]>\n",
            "<Response [200]>\n",
            "<Response [200]>\n",
            "<Response [200]>\n",
            "<Response [200]>\n",
            "<Response [200]>\n",
            "<Response [200]>\n",
            "<Response [200]>\n",
            "<Response [200]>\n"
          ],
          "name": "stdout"
        }
      ]
    },
    {
      "cell_type": "code",
      "metadata": {
        "id": "9yTzVf9LB_io"
      },
      "source": [
        "data = pd.read_csv('payscale_data.csv')"
      ],
      "execution_count": 17,
      "outputs": []
    },
    {
      "cell_type": "code",
      "metadata": {
        "id": "d8Low0G-EI8n"
      },
      "source": [
        "df = pd.DataFrame(data)"
      ],
      "execution_count": 18,
      "outputs": []
    },
    {
      "cell_type": "code",
      "metadata": {
        "colab": {
          "base_uri": "https://localhost:8080/",
          "height": 424
        },
        "id": "0dPfCgkNEda8",
        "outputId": "36a162b5-8a0c-48df-d262-f36ad930bba1"
      },
      "source": [
        "df.drop_duplicates()"
      ],
      "execution_count": 37,
      "outputs": [
        {
          "output_type": "execute_result",
          "data": {
            "text/html": [
              "<div>\n",
              "<style scoped>\n",
              "    .dataframe tbody tr th:only-of-type {\n",
              "        vertical-align: middle;\n",
              "    }\n",
              "\n",
              "    .dataframe tbody tr th {\n",
              "        vertical-align: top;\n",
              "    }\n",
              "\n",
              "    .dataframe thead th {\n",
              "        text-align: right;\n",
              "    }\n",
              "</style>\n",
              "<table border=\"1\" class=\"dataframe\">\n",
              "  <thead>\n",
              "    <tr style=\"text-align: right;\">\n",
              "      <th></th>\n",
              "      <th>Unnamed: 0</th>\n",
              "      <th>Rank</th>\n",
              "      <th>Major</th>\n",
              "      <th>Degree Type</th>\n",
              "      <th>Early Career Pay</th>\n",
              "      <th>Mid-Career Pay</th>\n",
              "      <th>% High Meaning</th>\n",
              "    </tr>\n",
              "  </thead>\n",
              "  <tbody>\n",
              "    <tr>\n",
              "      <th>0</th>\n",
              "      <td>0.0</td>\n",
              "      <td>1</td>\n",
              "      <td>Petroleum Engineering</td>\n",
              "      <td>Bachelors</td>\n",
              "      <td>$92,300</td>\n",
              "      <td>$182,000</td>\n",
              "      <td>69%</td>\n",
              "    </tr>\n",
              "    <tr>\n",
              "      <th>1</th>\n",
              "      <td>NaN</td>\n",
              "      <td>Rank</td>\n",
              "      <td>Major</td>\n",
              "      <td>Degree Type</td>\n",
              "      <td>Early Career Pay</td>\n",
              "      <td>Mid-Career Pay</td>\n",
              "      <td>% High Meaning</td>\n",
              "    </tr>\n",
              "    <tr>\n",
              "      <th>3</th>\n",
              "      <td>1.0</td>\n",
              "      <td>2</td>\n",
              "      <td>Electrical Engineering &amp; Computer Science (EECS)</td>\n",
              "      <td>Bachelors</td>\n",
              "      <td>$101,200</td>\n",
              "      <td>$152,300</td>\n",
              "      <td>46%</td>\n",
              "    </tr>\n",
              "    <tr>\n",
              "      <th>7</th>\n",
              "      <td>2.0</td>\n",
              "      <td>3</td>\n",
              "      <td>Applied Economics and Management</td>\n",
              "      <td>Bachelors</td>\n",
              "      <td>$60,900</td>\n",
              "      <td>$139,600</td>\n",
              "      <td>67%</td>\n",
              "    </tr>\n",
              "    <tr>\n",
              "      <th>12</th>\n",
              "      <td>3.0</td>\n",
              "      <td>3</td>\n",
              "      <td>Operations Research</td>\n",
              "      <td>Bachelors</td>\n",
              "      <td>$78,400</td>\n",
              "      <td>$139,600</td>\n",
              "      <td>52%</td>\n",
              "    </tr>\n",
              "    <tr>\n",
              "      <th>...</th>\n",
              "      <td>...</td>\n",
              "      <td>...</td>\n",
              "      <td>...</td>\n",
              "      <td>...</td>\n",
              "      <td>...</td>\n",
              "      <td>...</td>\n",
              "      <td>...</td>\n",
              "    </tr>\n",
              "    <tr>\n",
              "      <th>11568</th>\n",
              "      <td>4.0</td>\n",
              "      <td>830</td>\n",
              "      <td>Early Childhood Education</td>\n",
              "      <td>Bachelors</td>\n",
              "      <td>$34,100</td>\n",
              "      <td>$43,300</td>\n",
              "      <td>78%</td>\n",
              "    </tr>\n",
              "    <tr>\n",
              "      <th>11575</th>\n",
              "      <td>5.0</td>\n",
              "      <td>831</td>\n",
              "      <td>Mental Health</td>\n",
              "      <td>Bachelors</td>\n",
              "      <td>$35,200</td>\n",
              "      <td>$42,500</td>\n",
              "      <td>-</td>\n",
              "    </tr>\n",
              "    <tr>\n",
              "      <th>11583</th>\n",
              "      <td>6.0</td>\n",
              "      <td>832</td>\n",
              "      <td>Medical Assisting</td>\n",
              "      <td>Bachelors</td>\n",
              "      <td>$35,100</td>\n",
              "      <td>$42,300</td>\n",
              "      <td>-</td>\n",
              "    </tr>\n",
              "    <tr>\n",
              "      <th>11592</th>\n",
              "      <td>7.0</td>\n",
              "      <td>833</td>\n",
              "      <td>Addictions Counseling</td>\n",
              "      <td>Bachelors</td>\n",
              "      <td>$38,800</td>\n",
              "      <td>$42,200</td>\n",
              "      <td>-</td>\n",
              "    </tr>\n",
              "    <tr>\n",
              "      <th>11602</th>\n",
              "      <td>8.0</td>\n",
              "      <td>834</td>\n",
              "      <td>Metalsmithing</td>\n",
              "      <td>Bachelors</td>\n",
              "      <td>$38,300</td>\n",
              "      <td>$38,400</td>\n",
              "      <td>32%</td>\n",
              "    </tr>\n",
              "  </tbody>\n",
              "</table>\n",
              "<p>835 rows × 7 columns</p>\n",
              "</div>"
            ],
            "text/plain": [
              "       Unnamed: 0  Rank  ...  Mid-Career Pay  % High Meaning\n",
              "0             0.0     1  ...        $182,000             69%\n",
              "1             NaN  Rank  ...  Mid-Career Pay  % High Meaning\n",
              "3             1.0     2  ...        $152,300             46%\n",
              "7             2.0     3  ...        $139,600             67%\n",
              "12            3.0     3  ...        $139,600             52%\n",
              "...           ...   ...  ...             ...             ...\n",
              "11568         4.0   830  ...         $43,300             78%\n",
              "11575         5.0   831  ...         $42,500               -\n",
              "11583         6.0   832  ...         $42,300               -\n",
              "11592         7.0   833  ...         $42,200               -\n",
              "11602         8.0   834  ...         $38,400             32%\n",
              "\n",
              "[835 rows x 7 columns]"
            ]
          },
          "metadata": {
            "tags": []
          },
          "execution_count": 37
        }
      ]
    },
    {
      "cell_type": "code",
      "metadata": {
        "id": "A-Hll6_-EoOl"
      },
      "source": [
        "df.notna()\n",
        "clean_df = df.dropna().drop('Unnamed: 0', axis='columns').drop_duplicates()"
      ],
      "execution_count": 57,
      "outputs": []
    },
    {
      "cell_type": "code",
      "metadata": {
        "colab": {
          "base_uri": "https://localhost:8080/",
          "height": 363
        },
        "id": "eDv2BD7WEhLm",
        "outputId": "307d06f9-bc90-496a-b335-4452726044eb"
      },
      "source": [
        "clean_df.head(10)"
      ],
      "execution_count": 59,
      "outputs": [
        {
          "output_type": "execute_result",
          "data": {
            "text/html": [
              "<div>\n",
              "<style scoped>\n",
              "    .dataframe tbody tr th:only-of-type {\n",
              "        vertical-align: middle;\n",
              "    }\n",
              "\n",
              "    .dataframe tbody tr th {\n",
              "        vertical-align: top;\n",
              "    }\n",
              "\n",
              "    .dataframe thead th {\n",
              "        text-align: right;\n",
              "    }\n",
              "</style>\n",
              "<table border=\"1\" class=\"dataframe\">\n",
              "  <thead>\n",
              "    <tr style=\"text-align: right;\">\n",
              "      <th></th>\n",
              "      <th>Rank</th>\n",
              "      <th>Major</th>\n",
              "      <th>Degree Type</th>\n",
              "      <th>Early Career Pay</th>\n",
              "      <th>Mid-Career Pay</th>\n",
              "      <th>% High Meaning</th>\n",
              "    </tr>\n",
              "  </thead>\n",
              "  <tbody>\n",
              "    <tr>\n",
              "      <th>0</th>\n",
              "      <td>1</td>\n",
              "      <td>Petroleum Engineering</td>\n",
              "      <td>Bachelors</td>\n",
              "      <td>$92,300</td>\n",
              "      <td>$182,000</td>\n",
              "      <td>69%</td>\n",
              "    </tr>\n",
              "    <tr>\n",
              "      <th>3</th>\n",
              "      <td>2</td>\n",
              "      <td>Electrical Engineering &amp; Computer Science (EECS)</td>\n",
              "      <td>Bachelors</td>\n",
              "      <td>$101,200</td>\n",
              "      <td>$152,300</td>\n",
              "      <td>46%</td>\n",
              "    </tr>\n",
              "    <tr>\n",
              "      <th>7</th>\n",
              "      <td>3</td>\n",
              "      <td>Applied Economics and Management</td>\n",
              "      <td>Bachelors</td>\n",
              "      <td>$60,900</td>\n",
              "      <td>$139,600</td>\n",
              "      <td>67%</td>\n",
              "    </tr>\n",
              "    <tr>\n",
              "      <th>12</th>\n",
              "      <td>3</td>\n",
              "      <td>Operations Research</td>\n",
              "      <td>Bachelors</td>\n",
              "      <td>$78,400</td>\n",
              "      <td>$139,600</td>\n",
              "      <td>52%</td>\n",
              "    </tr>\n",
              "    <tr>\n",
              "      <th>18</th>\n",
              "      <td>5</td>\n",
              "      <td>Public Accounting</td>\n",
              "      <td>Bachelors</td>\n",
              "      <td>$60,000</td>\n",
              "      <td>$138,800</td>\n",
              "      <td>49%</td>\n",
              "    </tr>\n",
              "    <tr>\n",
              "      <th>25</th>\n",
              "      <td>6</td>\n",
              "      <td>Chemical Engineering/Materials Science &amp; Engin...</td>\n",
              "      <td>Bachelors</td>\n",
              "      <td>$74,500</td>\n",
              "      <td>$137,800</td>\n",
              "      <td>60%</td>\n",
              "    </tr>\n",
              "    <tr>\n",
              "      <th>33</th>\n",
              "      <td>7</td>\n",
              "      <td>Quantitative Business Analysis</td>\n",
              "      <td>Bachelors</td>\n",
              "      <td>$67,900</td>\n",
              "      <td>$136,200</td>\n",
              "      <td>55%</td>\n",
              "    </tr>\n",
              "    <tr>\n",
              "      <th>42</th>\n",
              "      <td>8</td>\n",
              "      <td>Pharmacy</td>\n",
              "      <td>Bachelors</td>\n",
              "      <td>$66,300</td>\n",
              "      <td>$133,200</td>\n",
              "      <td>79%</td>\n",
              "    </tr>\n",
              "    <tr>\n",
              "      <th>52</th>\n",
              "      <td>9</td>\n",
              "      <td>Aeronautics &amp; Astronautics</td>\n",
              "      <td>Bachelors</td>\n",
              "      <td>$74,000</td>\n",
              "      <td>$133,100</td>\n",
              "      <td>60%</td>\n",
              "    </tr>\n",
              "    <tr>\n",
              "      <th>63</th>\n",
              "      <td>10</td>\n",
              "      <td>Systems Engineering</td>\n",
              "      <td>Bachelors</td>\n",
              "      <td>$74,000</td>\n",
              "      <td>$132,900</td>\n",
              "      <td>54%</td>\n",
              "    </tr>\n",
              "  </tbody>\n",
              "</table>\n",
              "</div>"
            ],
            "text/plain": [
              "   Rank  ... % High Meaning\n",
              "0     1  ...            69%\n",
              "3     2  ...            46%\n",
              "7     3  ...            67%\n",
              "12    3  ...            52%\n",
              "18    5  ...            49%\n",
              "25    6  ...            60%\n",
              "33    7  ...            55%\n",
              "42    8  ...            79%\n",
              "52    9  ...            60%\n",
              "63   10  ...            54%\n",
              "\n",
              "[10 rows x 6 columns]"
            ]
          },
          "metadata": {
            "tags": []
          },
          "execution_count": 59
        }
      ]
    },
    {
      "cell_type": "code",
      "metadata": {
        "colab": {
          "base_uri": "https://localhost:8080/"
        },
        "id": "Ad9k4otXFLdh",
        "outputId": "8a7a9d13-eb92-412a-88f7-cdf3af537ac1"
      },
      "source": [
        "clean_df.columns"
      ],
      "execution_count": 60,
      "outputs": [
        {
          "output_type": "execute_result",
          "data": {
            "text/plain": [
              "Index(['Rank', 'Major', 'Degree Type', 'Early Career Pay', 'Mid-Career Pay',\n",
              "       '% High Meaning'],\n",
              "      dtype='object')"
            ]
          },
          "metadata": {
            "tags": []
          },
          "execution_count": 60
        }
      ]
    },
    {
      "cell_type": "code",
      "metadata": {
        "colab": {
          "base_uri": "https://localhost:8080/"
        },
        "id": "_-79a0kIGYED",
        "outputId": "4275cba5-ea60-4368-aea8-6ce7d3efd664"
      },
      "source": [
        "df.shape"
      ],
      "execution_count": 61,
      "outputs": [
        {
          "output_type": "execute_result",
          "data": {
            "text/plain": [
              "(11603, 7)"
            ]
          },
          "metadata": {
            "tags": []
          },
          "execution_count": 61
        }
      ]
    },
    {
      "cell_type": "code",
      "metadata": {
        "id": "-5eSgbBjckLU"
      },
      "source": [
        "soup = BeautifulSoup(data.text, 'html.parser')"
      ],
      "execution_count": 137,
      "outputs": []
    },
    {
      "cell_type": "code",
      "metadata": {
        "id": "j8PkSTS3rmWD"
      },
      "source": [
        "page_data = soup.find('div', class_='pagination')"
      ],
      "execution_count": 138,
      "outputs": []
    },
    {
      "cell_type": "code",
      "metadata": {
        "colab": {
          "base_uri": "https://localhost:8080/"
        },
        "id": "wm2ZZUK_c2mo",
        "outputId": "bfe8be7e-985f-41c2-debe-9b2479d2ebcc"
      },
      "source": [
        "table_data = soup.find('table', class_='data-table')\n",
        "print(table_data)"
      ],
      "execution_count": 139,
      "outputs": [
        {
          "output_type": "stream",
          "text": [
            "<table class=\"data-table\"><thead><tr><th class=\"csr-col--rank data-table__header data-table__header--active data-table__header--sortable\">Rank<i class=\"icon-sort-up\"></i></th><th class=\"csr-col--school-name data-table__header data-table__header--sortable\">Major<i class=\"icon-sort\"></i></th><th class=\"csr-col--school-type data-table__header\">Degree Type</th><th class=\"csr-col--right data-table__header data-table__header--sortable\"><span class=\"pxl-tooltip \" data-for=\"earlyCareerMedianPay\" data-tip=\"Median salary for alumni with 0-5 years experience\">Early Career Pay<span class=\"icon-reverse icon-circle\"><i class=\"icon-info\"></i></span></span><div class=\"__react_component_tooltip t9d0e070-0b29-4729-be20-5b366f00aef4 place-top type-dark\" data-id=\"tooltip\" id=\"earlyCareerMedianPay\"><style>\n",
            "  \t.t9d0e070-0b29-4729-be20-5b366f00aef4 {\n",
            "\t    color: #fff;\n",
            "\t    background: #222;\n",
            "\t    border: 1px solid transparent;\n",
            "  \t}\n",
            "\n",
            "  \t.t9d0e070-0b29-4729-be20-5b366f00aef4.place-top {\n",
            "        margin-top: -10px;\n",
            "    }\n",
            "    .t9d0e070-0b29-4729-be20-5b366f00aef4.place-top::before {\n",
            "        border-top: 8px solid transparent;\n",
            "    }\n",
            "    .t9d0e070-0b29-4729-be20-5b366f00aef4.place-top::after {\n",
            "        border-left: 8px solid transparent;\n",
            "        border-right: 8px solid transparent;\n",
            "        bottom: -6px;\n",
            "        left: 50%;\n",
            "        margin-left: -8px;\n",
            "        border-top-color: #222;\n",
            "        border-top-style: solid;\n",
            "        border-top-width: 6px;\n",
            "    }\n",
            "\n",
            "    .t9d0e070-0b29-4729-be20-5b366f00aef4.place-bottom {\n",
            "        margin-top: 10px;\n",
            "    }\n",
            "    .t9d0e070-0b29-4729-be20-5b366f00aef4.place-bottom::before {\n",
            "        border-bottom: 8px solid transparent;\n",
            "    }\n",
            "    .t9d0e070-0b29-4729-be20-5b366f00aef4.place-bottom::after {\n",
            "        border-left: 8px solid transparent;\n",
            "        border-right: 8px solid transparent;\n",
            "        top: -6px;\n",
            "        left: 50%;\n",
            "        margin-left: -8px;\n",
            "        border-bottom-color: #222;\n",
            "        border-bottom-style: solid;\n",
            "        border-bottom-width: 6px;\n",
            "    }\n",
            "\n",
            "    .t9d0e070-0b29-4729-be20-5b366f00aef4.place-left {\n",
            "        margin-left: -10px;\n",
            "    }\n",
            "    .t9d0e070-0b29-4729-be20-5b366f00aef4.place-left::before {\n",
            "        border-left: 8px solid transparent;\n",
            "    }\n",
            "    .t9d0e070-0b29-4729-be20-5b366f00aef4.place-left::after {\n",
            "        border-top: 5px solid transparent;\n",
            "        border-bottom: 5px solid transparent;\n",
            "        right: -6px;\n",
            "        top: 50%;\n",
            "        margin-top: -4px;\n",
            "        border-left-color: #222;\n",
            "        border-left-style: solid;\n",
            "        border-left-width: 6px;\n",
            "    }\n",
            "\n",
            "    .t9d0e070-0b29-4729-be20-5b366f00aef4.place-right {\n",
            "        margin-left: 10px;\n",
            "    }\n",
            "    .t9d0e070-0b29-4729-be20-5b366f00aef4.place-right::before {\n",
            "        border-right: 8px solid transparent;\n",
            "    }\n",
            "    .t9d0e070-0b29-4729-be20-5b366f00aef4.place-right::after {\n",
            "        border-top: 5px solid transparent;\n",
            "        border-bottom: 5px solid transparent;\n",
            "        left: -6px;\n",
            "        top: 50%;\n",
            "        margin-top: -4px;\n",
            "        border-right-color: #222;\n",
            "        border-right-style: solid;\n",
            "        border-right-width: 6px;\n",
            "    }\n",
            "  </style></div><i class=\"icon-sort\"></i></th><th class=\"csr-col--right data-table__header data-table__header--sortable\"><span class=\"pxl-tooltip \" data-for=\"midCareerMedianPay\" data-tip=\"Median salary for alumni with 10+ years experience\">Mid-Career Pay<span class=\"icon-reverse icon-circle\"><i class=\"icon-info\"></i></span></span><div class=\"__react_component_tooltip t545bb13-8bf6-437f-b8b5-124e9500422e place-top type-dark\" data-id=\"tooltip\" id=\"midCareerMedianPay\"><style>\n",
            "  \t.t545bb13-8bf6-437f-b8b5-124e9500422e {\n",
            "\t    color: #fff;\n",
            "\t    background: #222;\n",
            "\t    border: 1px solid transparent;\n",
            "  \t}\n",
            "\n",
            "  \t.t545bb13-8bf6-437f-b8b5-124e9500422e.place-top {\n",
            "        margin-top: -10px;\n",
            "    }\n",
            "    .t545bb13-8bf6-437f-b8b5-124e9500422e.place-top::before {\n",
            "        border-top: 8px solid transparent;\n",
            "    }\n",
            "    .t545bb13-8bf6-437f-b8b5-124e9500422e.place-top::after {\n",
            "        border-left: 8px solid transparent;\n",
            "        border-right: 8px solid transparent;\n",
            "        bottom: -6px;\n",
            "        left: 50%;\n",
            "        margin-left: -8px;\n",
            "        border-top-color: #222;\n",
            "        border-top-style: solid;\n",
            "        border-top-width: 6px;\n",
            "    }\n",
            "\n",
            "    .t545bb13-8bf6-437f-b8b5-124e9500422e.place-bottom {\n",
            "        margin-top: 10px;\n",
            "    }\n",
            "    .t545bb13-8bf6-437f-b8b5-124e9500422e.place-bottom::before {\n",
            "        border-bottom: 8px solid transparent;\n",
            "    }\n",
            "    .t545bb13-8bf6-437f-b8b5-124e9500422e.place-bottom::after {\n",
            "        border-left: 8px solid transparent;\n",
            "        border-right: 8px solid transparent;\n",
            "        top: -6px;\n",
            "        left: 50%;\n",
            "        margin-left: -8px;\n",
            "        border-bottom-color: #222;\n",
            "        border-bottom-style: solid;\n",
            "        border-bottom-width: 6px;\n",
            "    }\n",
            "\n",
            "    .t545bb13-8bf6-437f-b8b5-124e9500422e.place-left {\n",
            "        margin-left: -10px;\n",
            "    }\n",
            "    .t545bb13-8bf6-437f-b8b5-124e9500422e.place-left::before {\n",
            "        border-left: 8px solid transparent;\n",
            "    }\n",
            "    .t545bb13-8bf6-437f-b8b5-124e9500422e.place-left::after {\n",
            "        border-top: 5px solid transparent;\n",
            "        border-bottom: 5px solid transparent;\n",
            "        right: -6px;\n",
            "        top: 50%;\n",
            "        margin-top: -4px;\n",
            "        border-left-color: #222;\n",
            "        border-left-style: solid;\n",
            "        border-left-width: 6px;\n",
            "    }\n",
            "\n",
            "    .t545bb13-8bf6-437f-b8b5-124e9500422e.place-right {\n",
            "        margin-left: 10px;\n",
            "    }\n",
            "    .t545bb13-8bf6-437f-b8b5-124e9500422e.place-right::before {\n",
            "        border-right: 8px solid transparent;\n",
            "    }\n",
            "    .t545bb13-8bf6-437f-b8b5-124e9500422e.place-right::after {\n",
            "        border-top: 5px solid transparent;\n",
            "        border-bottom: 5px solid transparent;\n",
            "        left: -6px;\n",
            "        top: 50%;\n",
            "        margin-top: -4px;\n",
            "        border-right-color: #222;\n",
            "        border-right-style: solid;\n",
            "        border-right-width: 6px;\n",
            "    }\n",
            "  </style></div><i class=\"icon-sort\"></i></th><th class=\"csr-col--right data-table__header data-table__header--sortable\"><span class=\"pxl-tooltip \" data-for=\"percentHighMeaning\" data-tip=\"% alumni who say their work makes the world a better place\">% High Meaning<span class=\"icon-reverse icon-circle\"><i class=\"icon-info\"></i></span></span><div class=\"__react_component_tooltip tfc30ea7-b661-4191-a85f-c9d124cf0325 place-top type-dark\" data-id=\"tooltip\" id=\"percentHighMeaning\"><style>\n",
            "  \t.tfc30ea7-b661-4191-a85f-c9d124cf0325 {\n",
            "\t    color: #fff;\n",
            "\t    background: #222;\n",
            "\t    border: 1px solid transparent;\n",
            "  \t}\n",
            "\n",
            "  \t.tfc30ea7-b661-4191-a85f-c9d124cf0325.place-top {\n",
            "        margin-top: -10px;\n",
            "    }\n",
            "    .tfc30ea7-b661-4191-a85f-c9d124cf0325.place-top::before {\n",
            "        border-top: 8px solid transparent;\n",
            "    }\n",
            "    .tfc30ea7-b661-4191-a85f-c9d124cf0325.place-top::after {\n",
            "        border-left: 8px solid transparent;\n",
            "        border-right: 8px solid transparent;\n",
            "        bottom: -6px;\n",
            "        left: 50%;\n",
            "        margin-left: -8px;\n",
            "        border-top-color: #222;\n",
            "        border-top-style: solid;\n",
            "        border-top-width: 6px;\n",
            "    }\n",
            "\n",
            "    .tfc30ea7-b661-4191-a85f-c9d124cf0325.place-bottom {\n",
            "        margin-top: 10px;\n",
            "    }\n",
            "    .tfc30ea7-b661-4191-a85f-c9d124cf0325.place-bottom::before {\n",
            "        border-bottom: 8px solid transparent;\n",
            "    }\n",
            "    .tfc30ea7-b661-4191-a85f-c9d124cf0325.place-bottom::after {\n",
            "        border-left: 8px solid transparent;\n",
            "        border-right: 8px solid transparent;\n",
            "        top: -6px;\n",
            "        left: 50%;\n",
            "        margin-left: -8px;\n",
            "        border-bottom-color: #222;\n",
            "        border-bottom-style: solid;\n",
            "        border-bottom-width: 6px;\n",
            "    }\n",
            "\n",
            "    .tfc30ea7-b661-4191-a85f-c9d124cf0325.place-left {\n",
            "        margin-left: -10px;\n",
            "    }\n",
            "    .tfc30ea7-b661-4191-a85f-c9d124cf0325.place-left::before {\n",
            "        border-left: 8px solid transparent;\n",
            "    }\n",
            "    .tfc30ea7-b661-4191-a85f-c9d124cf0325.place-left::after {\n",
            "        border-top: 5px solid transparent;\n",
            "        border-bottom: 5px solid transparent;\n",
            "        right: -6px;\n",
            "        top: 50%;\n",
            "        margin-top: -4px;\n",
            "        border-left-color: #222;\n",
            "        border-left-style: solid;\n",
            "        border-left-width: 6px;\n",
            "    }\n",
            "\n",
            "    .tfc30ea7-b661-4191-a85f-c9d124cf0325.place-right {\n",
            "        margin-left: 10px;\n",
            "    }\n",
            "    .tfc30ea7-b661-4191-a85f-c9d124cf0325.place-right::before {\n",
            "        border-right: 8px solid transparent;\n",
            "    }\n",
            "    .tfc30ea7-b661-4191-a85f-c9d124cf0325.place-right::after {\n",
            "        border-top: 5px solid transparent;\n",
            "        border-bottom: 5px solid transparent;\n",
            "        left: -6px;\n",
            "        top: 50%;\n",
            "        margin-top: -4px;\n",
            "        border-right-color: #222;\n",
            "        border-right-style: solid;\n",
            "        border-right-width: 6px;\n",
            "    }\n",
            "  </style></div><i class=\"icon-sort\"></i></th></tr></thead><tbody><tr class=\"data-table__row\"><td class=\"data-table__cell csr-col--rank \"><span class=\"data-table__title\">Rank<!-- -->:</span><span class=\"data-table__value\">1</span></td><td class=\"data-table__cell csr-col--school-name \"><span class=\"data-table__title\">Major<!-- -->:</span><span class=\"data-table__value\"><a href=\"/research/US/Degree=Bachelor%27s_Degree%2C_Petroleum_Engineering/Salary\">Petroleum Engineering</a></span></td><td class=\"data-table__cell csr-col--school-type data-table__cell--hidden-mobile\"><span class=\"data-table__title\">Degree Type<!-- -->:</span><span class=\"data-table__value\">Bachelors</span></td><td class=\"data-table__cell csr-col--right \"><span class=\"data-table__title\">Early Career Pay<!-- -->:</span><span class=\"data-table__value\">$92,300</span></td><td class=\"data-table__cell csr-col--right \"><span class=\"data-table__title\">Mid-Career Pay<!-- -->:</span><span class=\"data-table__value\">$182,000</span></td><td class=\"data-table__cell csr-col--right \"><span class=\"data-table__title\">% High Meaning<!-- -->:</span><span class=\"data-table__value\">69%</span></td></tr><tr class=\"data-table__row\"><td class=\"data-table__cell csr-col--rank \"><span class=\"data-table__title\">Rank<!-- -->:</span><span class=\"data-table__value\">2</span></td><td class=\"data-table__cell csr-col--school-name \"><span class=\"data-table__title\">Major<!-- -->:</span><span class=\"data-table__value\"><a href=\"/research/US/Degree=Bachelor%27s_Degree%2C_Electrical_Engineering_%26_Computer_Science_(EECS)/Salary\">Electrical Engineering &amp; Computer Science (EECS)</a></span></td><td class=\"data-table__cell csr-col--school-type data-table__cell--hidden-mobile\"><span class=\"data-table__title\">Degree Type<!-- -->:</span><span class=\"data-table__value\">Bachelors</span></td><td class=\"data-table__cell csr-col--right \"><span class=\"data-table__title\">Early Career Pay<!-- -->:</span><span class=\"data-table__value\">$101,200</span></td><td class=\"data-table__cell csr-col--right \"><span class=\"data-table__title\">Mid-Career Pay<!-- -->:</span><span class=\"data-table__value\">$152,300</span></td><td class=\"data-table__cell csr-col--right \"><span class=\"data-table__title\">% High Meaning<!-- -->:</span><span class=\"data-table__value\">46%</span></td></tr><tr class=\"data-table__row\"><td class=\"data-table__cell csr-col--rank \"><span class=\"data-table__title\">Rank<!-- -->:</span><span class=\"data-table__value\">3</span></td><td class=\"data-table__cell csr-col--school-name \"><span class=\"data-table__title\">Major<!-- -->:</span><span class=\"data-table__value\"><a href=\"/research/US/Degree=Bachelor%27s_Degree%2C_Applied_Economics_and_Management/Salary\">Applied Economics and Management</a></span></td><td class=\"data-table__cell csr-col--school-type data-table__cell--hidden-mobile\"><span class=\"data-table__title\">Degree Type<!-- -->:</span><span class=\"data-table__value\">Bachelors</span></td><td class=\"data-table__cell csr-col--right \"><span class=\"data-table__title\">Early Career Pay<!-- -->:</span><span class=\"data-table__value\">$60,900</span></td><td class=\"data-table__cell csr-col--right \"><span class=\"data-table__title\">Mid-Career Pay<!-- -->:</span><span class=\"data-table__value\">$139,600</span></td><td class=\"data-table__cell csr-col--right \"><span class=\"data-table__title\">% High Meaning<!-- -->:</span><span class=\"data-table__value\">67%</span></td></tr><tr class=\"data-table__row\"><td class=\"data-table__cell csr-col--rank \"><span class=\"data-table__title\">Rank<!-- -->:</span><span class=\"data-table__value\">3</span></td><td class=\"data-table__cell csr-col--school-name \"><span class=\"data-table__title\">Major<!-- -->:</span><span class=\"data-table__value\"><a href=\"/research/US/Degree=Bachelor%27s_Degree%2C_Operations_Research/Salary\">Operations Research</a></span></td><td class=\"data-table__cell csr-col--school-type data-table__cell--hidden-mobile\"><span class=\"data-table__title\">Degree Type<!-- -->:</span><span class=\"data-table__value\">Bachelors</span></td><td class=\"data-table__cell csr-col--right \"><span class=\"data-table__title\">Early Career Pay<!-- -->:</span><span class=\"data-table__value\">$78,400</span></td><td class=\"data-table__cell csr-col--right \"><span class=\"data-table__title\">Mid-Career Pay<!-- -->:</span><span class=\"data-table__value\">$139,600</span></td><td class=\"data-table__cell csr-col--right \"><span class=\"data-table__title\">% High Meaning<!-- -->:</span><span class=\"data-table__value\">52%</span></td></tr><tr class=\"data-table__row\"><td class=\"data-table__cell csr-col--rank \"><span class=\"data-table__title\">Rank<!-- -->:</span><span class=\"data-table__value\">5</span></td><td class=\"data-table__cell csr-col--school-name \"><span class=\"data-table__title\">Major<!-- -->:</span><span class=\"data-table__value\"><a href=\"/research/US/Degree=Bachelor%27s_Degree%2C_Public_Accounting/Salary\">Public Accounting</a></span></td><td class=\"data-table__cell csr-col--school-type data-table__cell--hidden-mobile\"><span class=\"data-table__title\">Degree Type<!-- -->:</span><span class=\"data-table__value\">Bachelors</span></td><td class=\"data-table__cell csr-col--right \"><span class=\"data-table__title\">Early Career Pay<!-- -->:</span><span class=\"data-table__value\">$60,000</span></td><td class=\"data-table__cell csr-col--right \"><span class=\"data-table__title\">Mid-Career Pay<!-- -->:</span><span class=\"data-table__value\">$138,800</span></td><td class=\"data-table__cell csr-col--right \"><span class=\"data-table__title\">% High Meaning<!-- -->:</span><span class=\"data-table__value\">49%</span></td></tr><tr class=\"data-table__row\"><td class=\"data-table__cell csr-col--rank \"><span class=\"data-table__title\">Rank<!-- -->:</span><span class=\"data-table__value\">6</span></td><td class=\"data-table__cell csr-col--school-name \"><span class=\"data-table__title\">Major<!-- -->:</span><span class=\"data-table__value\"><a href=\"/research/US/Degree=Bachelor%27s_Degree%2C_Chemical_Engineering%2FMaterials_Science_%26_Engineering/Salary\">Chemical Engineering/Materials Science &amp; Engineering</a></span></td><td class=\"data-table__cell csr-col--school-type data-table__cell--hidden-mobile\"><span class=\"data-table__title\">Degree Type<!-- -->:</span><span class=\"data-table__value\">Bachelors</span></td><td class=\"data-table__cell csr-col--right \"><span class=\"data-table__title\">Early Career Pay<!-- -->:</span><span class=\"data-table__value\">$74,500</span></td><td class=\"data-table__cell csr-col--right \"><span class=\"data-table__title\">Mid-Career Pay<!-- -->:</span><span class=\"data-table__value\">$137,800</span></td><td class=\"data-table__cell csr-col--right \"><span class=\"data-table__title\">% High Meaning<!-- -->:</span><span class=\"data-table__value\">60%</span></td></tr><tr class=\"data-table__row\"><td class=\"data-table__cell csr-col--rank \"><span class=\"data-table__title\">Rank<!-- -->:</span><span class=\"data-table__value\">7</span></td><td class=\"data-table__cell csr-col--school-name \"><span class=\"data-table__title\">Major<!-- -->:</span><span class=\"data-table__value\"><a href=\"/research/US/Degree=Bachelor%27s_Degree%2C_Quantitative_Business_Analysis/Salary\">Quantitative Business Analysis</a></span></td><td class=\"data-table__cell csr-col--school-type data-table__cell--hidden-mobile\"><span class=\"data-table__title\">Degree Type<!-- -->:</span><span class=\"data-table__value\">Bachelors</span></td><td class=\"data-table__cell csr-col--right \"><span class=\"data-table__title\">Early Career Pay<!-- -->:</span><span class=\"data-table__value\">$67,900</span></td><td class=\"data-table__cell csr-col--right \"><span class=\"data-table__title\">Mid-Career Pay<!-- -->:</span><span class=\"data-table__value\">$136,200</span></td><td class=\"data-table__cell csr-col--right \"><span class=\"data-table__title\">% High Meaning<!-- -->:</span><span class=\"data-table__value\">55%</span></td></tr><tr class=\"data-table__row\"><td class=\"data-table__cell csr-col--rank \"><span class=\"data-table__title\">Rank<!-- -->:</span><span class=\"data-table__value\">8</span></td><td class=\"data-table__cell csr-col--school-name \"><span class=\"data-table__title\">Major<!-- -->:</span><span class=\"data-table__value\"><a href=\"/research/US/Degree=Bachelor%27s_Degree%2C_Pharmacy/Salary\">Pharmacy</a></span></td><td class=\"data-table__cell csr-col--school-type data-table__cell--hidden-mobile\"><span class=\"data-table__title\">Degree Type<!-- -->:</span><span class=\"data-table__value\">Bachelors</span></td><td class=\"data-table__cell csr-col--right \"><span class=\"data-table__title\">Early Career Pay<!-- -->:</span><span class=\"data-table__value\">$66,300</span></td><td class=\"data-table__cell csr-col--right \"><span class=\"data-table__title\">Mid-Career Pay<!-- -->:</span><span class=\"data-table__value\">$133,200</span></td><td class=\"data-table__cell csr-col--right \"><span class=\"data-table__title\">% High Meaning<!-- -->:</span><span class=\"data-table__value\">79%</span></td></tr><tr class=\"data-table__row\"><td class=\"data-table__cell csr-col--rank \"><span class=\"data-table__title\">Rank<!-- -->:</span><span class=\"data-table__value\">9</span></td><td class=\"data-table__cell csr-col--school-name \"><span class=\"data-table__title\">Major<!-- -->:</span><span class=\"data-table__value\"><a href=\"/research/US/Degree=Bachelor%27s_Degree%2C_Aeronautics_%26_Astronautics/Salary\">Aeronautics &amp; Astronautics</a></span></td><td class=\"data-table__cell csr-col--school-type data-table__cell--hidden-mobile\"><span class=\"data-table__title\">Degree Type<!-- -->:</span><span class=\"data-table__value\">Bachelors</span></td><td class=\"data-table__cell csr-col--right \"><span class=\"data-table__title\">Early Career Pay<!-- -->:</span><span class=\"data-table__value\">$74,000</span></td><td class=\"data-table__cell csr-col--right \"><span class=\"data-table__title\">Mid-Career Pay<!-- -->:</span><span class=\"data-table__value\">$133,100</span></td><td class=\"data-table__cell csr-col--right \"><span class=\"data-table__title\">% High Meaning<!-- -->:</span><span class=\"data-table__value\">60%</span></td></tr><tr class=\"data-table__row\"><td class=\"data-table__cell csr-col--rank \"><span class=\"data-table__title\">Rank<!-- -->:</span><span class=\"data-table__value\">10</span></td><td class=\"data-table__cell csr-col--school-name \"><span class=\"data-table__title\">Major<!-- -->:</span><span class=\"data-table__value\"><a href=\"/research/US/Degree=Bachelor%27s_Degree%2C_Systems_Engineering/Salary\">Systems Engineering</a></span></td><td class=\"data-table__cell csr-col--school-type data-table__cell--hidden-mobile\"><span class=\"data-table__title\">Degree Type<!-- -->:</span><span class=\"data-table__value\">Bachelors</span></td><td class=\"data-table__cell csr-col--right \"><span class=\"data-table__title\">Early Career Pay<!-- -->:</span><span class=\"data-table__value\">$74,000</span></td><td class=\"data-table__cell csr-col--right \"><span class=\"data-table__title\">Mid-Career Pay<!-- -->:</span><span class=\"data-table__value\">$132,900</span></td><td class=\"data-table__cell csr-col--right \"><span class=\"data-table__title\">% High Meaning<!-- -->:</span><span class=\"data-table__value\">54%</span></td></tr><tr class=\"data-table__row\"><td class=\"data-table__cell csr-col--rank \"><span class=\"data-table__title\">Rank<!-- -->:</span><span class=\"data-table__value\">11</span></td><td class=\"data-table__cell csr-col--school-name \"><span class=\"data-table__title\">Major<!-- -->:</span><span class=\"data-table__value\"><a href=\"/research/US/Degree=Bachelor%27s_Degree%2C_Electrical_Power_Engineering/Salary\">Electrical Power Engineering</a></span></td><td class=\"data-table__cell csr-col--school-type data-table__cell--hidden-mobile\"><span class=\"data-table__title\">Degree Type<!-- -->:</span><span class=\"data-table__value\">Bachelors</span></td><td class=\"data-table__cell csr-col--right \"><span class=\"data-table__title\">Early Career Pay<!-- -->:</span><span class=\"data-table__value\">$73,100</span></td><td class=\"data-table__cell csr-col--right \"><span class=\"data-table__title\">Mid-Career Pay<!-- -->:</span><span class=\"data-table__value\">$130,700</span></td><td class=\"data-table__cell csr-col--right \"><span class=\"data-table__title\">% High Meaning<!-- -->:</span><span class=\"data-table__value\">67%</span></td></tr><tr class=\"data-table__row\"><td class=\"data-table__cell csr-col--rank \"><span class=\"data-table__title\">Rank<!-- -->:</span><span class=\"data-table__value\">12</span></td><td class=\"data-table__cell csr-col--school-name \"><span class=\"data-table__title\">Major<!-- -->:</span><span class=\"data-table__value\"><a href=\"/research/US/Degree=Bachelor%27s_Degree%2C_Actuarial_Mathematics/Salary\">Actuarial Mathematics</a></span></td><td class=\"data-table__cell csr-col--school-type data-table__cell--hidden-mobile\"><span class=\"data-table__title\">Degree Type<!-- -->:</span><span class=\"data-table__value\">Bachelors</span></td><td class=\"data-table__cell csr-col--right \"><span class=\"data-table__title\">Early Career Pay<!-- -->:</span><span class=\"data-table__value\">$61,900</span></td><td class=\"data-table__cell csr-col--right \"><span class=\"data-table__title\">Mid-Career Pay<!-- -->:</span><span class=\"data-table__value\">$130,500</span></td><td class=\"data-table__cell csr-col--right \"><span class=\"data-table__title\">% High Meaning<!-- -->:</span><span class=\"data-table__value\">50%</span></td></tr><tr class=\"data-table__row\"><td class=\"data-table__cell csr-col--rank \"><span class=\"data-table__title\">Rank<!-- -->:</span><span class=\"data-table__value\">13</span></td><td class=\"data-table__cell csr-col--school-name \"><span class=\"data-table__title\">Major<!-- -->:</span><span class=\"data-table__value\"><a href=\"/research/US/Degree=Bachelor%27s_Degree%2C_Aerospace_Studies/Salary\">Aerospace Studies</a></span></td><td class=\"data-table__cell csr-col--school-type data-table__cell--hidden-mobile\"><span class=\"data-table__title\">Degree Type<!-- -->:</span><span class=\"data-table__value\">Bachelors</span></td><td class=\"data-table__cell csr-col--right \"><span class=\"data-table__title\">Early Career Pay<!-- -->:</span><span class=\"data-table__value\">$50,300</span></td><td class=\"data-table__cell csr-col--right \"><span class=\"data-table__title\">Mid-Career Pay<!-- -->:</span><span class=\"data-table__value\">$130,300</span></td><td class=\"data-table__cell csr-col--right \"><span class=\"data-table__title\">% High Meaning<!-- -->:</span><span class=\"data-table__value\">-</span></td></tr><tr class=\"data-table__row\"><td class=\"data-table__cell csr-col--rank \"><span class=\"data-table__title\">Rank<!-- -->:</span><span class=\"data-table__value\">14</span></td><td class=\"data-table__cell csr-col--school-name \"><span class=\"data-table__title\">Major<!-- -->:</span><span class=\"data-table__value\"><a href=\"/research/US/Degree=Bachelor%27s_Degree%2C_Chemical_Engineering/Salary\">Chemical Engineering</a></span></td><td class=\"data-table__cell csr-col--school-type data-table__cell--hidden-mobile\"><span class=\"data-table__title\">Degree Type<!-- -->:</span><span class=\"data-table__value\">Bachelors</span></td><td class=\"data-table__cell csr-col--right \"><span class=\"data-table__title\">Early Career Pay<!-- -->:</span><span class=\"data-table__value\">$73,500</span></td><td class=\"data-table__cell csr-col--right \"><span class=\"data-table__title\">Mid-Career Pay<!-- -->:</span><span class=\"data-table__value\">$128,900</span></td><td class=\"data-table__cell csr-col--right \"><span class=\"data-table__title\">% High Meaning<!-- -->:</span><span class=\"data-table__value\">56%</span></td></tr><tr class=\"data-table__row\"><td class=\"data-table__cell csr-col--rank \"><span class=\"data-table__title\">Rank<!-- -->:</span><span class=\"data-table__value\">15</span></td><td class=\"data-table__cell csr-col--school-name \"><span class=\"data-table__title\">Major<!-- -->:</span><span class=\"data-table__value\"><a href=\"/research/US/Degree=Bachelor%27s_Degree%2C_Actuarial_Science/Salary\">Actuarial Science</a></span></td><td class=\"data-table__cell csr-col--school-type data-table__cell--hidden-mobile\"><span class=\"data-table__title\">Degree Type<!-- -->:</span><span class=\"data-table__value\">Bachelors</span></td><td class=\"data-table__cell csr-col--right \"><span class=\"data-table__title\">Early Career Pay<!-- -->:</span><span class=\"data-table__value\">$64,700</span></td><td class=\"data-table__cell csr-col--right \"><span class=\"data-table__title\">Mid-Career Pay<!-- -->:</span><span class=\"data-table__value\">$128,700</span></td><td class=\"data-table__cell csr-col--right \"><span class=\"data-table__title\">% High Meaning<!-- -->:</span><span class=\"data-table__value\">42%</span></td></tr><tr class=\"data-table__row\"><td class=\"data-table__cell csr-col--rank \"><span class=\"data-table__title\">Rank<!-- -->:</span><span class=\"data-table__value\">16</span></td><td class=\"data-table__cell csr-col--school-name \"><span class=\"data-table__title\">Major<!-- -->:</span><span class=\"data-table__value\"><a href=\"/research/US/Degree=Bachelor%27s_Degree%2C_Information_%26_Computer_Science/Salary\">Information &amp; Computer Science</a></span></td><td class=\"data-table__cell csr-col--school-type data-table__cell--hidden-mobile\"><span class=\"data-table__title\">Degree Type<!-- -->:</span><span class=\"data-table__value\">Bachelors</span></td><td class=\"data-table__cell csr-col--right \"><span class=\"data-table__title\">Early Career Pay<!-- -->:</span><span class=\"data-table__value\">$70,300</span></td><td class=\"data-table__cell csr-col--right \"><span class=\"data-table__title\">Mid-Career Pay<!-- -->:</span><span class=\"data-table__value\">$127,600</span></td><td class=\"data-table__cell csr-col--right \"><span class=\"data-table__title\">% High Meaning<!-- -->:</span><span class=\"data-table__value\">60%</span></td></tr><tr class=\"data-table__row\"><td class=\"data-table__cell csr-col--rank \"><span class=\"data-table__title\">Rank<!-- -->:</span><span class=\"data-table__value\">17</span></td><td class=\"data-table__cell csr-col--school-name \"><span class=\"data-table__title\">Major<!-- -->:</span><span class=\"data-table__value\"><a href=\"/research/US/Degree=Bachelor%27s_Degree%2C_Aeronautical_Engineering/Salary\">Aeronautical Engineering</a></span></td><td class=\"data-table__cell csr-col--school-type data-table__cell--hidden-mobile\"><span class=\"data-table__title\">Degree Type<!-- -->:</span><span class=\"data-table__value\">Bachelors</span></td><td class=\"data-table__cell csr-col--right \"><span class=\"data-table__title\">Early Career Pay<!-- -->:</span><span class=\"data-table__value\">$71,600</span></td><td class=\"data-table__cell csr-col--right \"><span class=\"data-table__title\">Mid-Career Pay<!-- -->:</span><span class=\"data-table__value\">$125,900</span></td><td class=\"data-table__cell csr-col--right \"><span class=\"data-table__title\">% High Meaning<!-- -->:</span><span class=\"data-table__value\">64%</span></td></tr><tr class=\"data-table__row\"><td class=\"data-table__cell csr-col--rank \"><span class=\"data-table__title\">Rank<!-- -->:</span><span class=\"data-table__value\">18</span></td><td class=\"data-table__cell csr-col--school-name \"><span class=\"data-table__title\">Major<!-- -->:</span><span class=\"data-table__value\"><a href=\"/research/US/Degree=Bachelor%27s_Degree%2C_Operations_%26_Information_Systems_Management/Salary\">Operations &amp; Information Systems Management</a></span></td><td class=\"data-table__cell csr-col--school-type data-table__cell--hidden-mobile\"><span class=\"data-table__title\">Degree Type<!-- -->:</span><span class=\"data-table__value\">Bachelors</span></td><td class=\"data-table__cell csr-col--right \"><span class=\"data-table__title\">Early Career Pay<!-- -->:</span><span class=\"data-table__value\">$63,800</span></td><td class=\"data-table__cell csr-col--right \"><span class=\"data-table__title\">Mid-Career Pay<!-- -->:</span><span class=\"data-table__value\">$125,100</span></td><td class=\"data-table__cell csr-col--right \"><span class=\"data-table__title\">% High Meaning<!-- -->:</span><span class=\"data-table__value\">31%</span></td></tr><tr class=\"data-table__row\"><td class=\"data-table__cell csr-col--rank \"><span class=\"data-table__title\">Rank<!-- -->:</span><span class=\"data-table__value\">18</span></td><td class=\"data-table__cell csr-col--school-name \"><span class=\"data-table__title\">Major<!-- -->:</span><span class=\"data-table__value\"><a href=\"/research/US/Degree=Bachelor%27s_Degree%2C_Political_Economy/Salary\">Political Economy</a></span></td><td class=\"data-table__cell csr-col--school-type data-table__cell--hidden-mobile\"><span class=\"data-table__title\">Degree Type<!-- -->:</span><span class=\"data-table__value\">Bachelors</span></td><td class=\"data-table__cell csr-col--right \"><span class=\"data-table__title\">Early Career Pay<!-- -->:</span><span class=\"data-table__value\">$58,200</span></td><td class=\"data-table__cell csr-col--right \"><span class=\"data-table__title\">Mid-Career Pay<!-- -->:</span><span class=\"data-table__value\">$125,100</span></td><td class=\"data-table__cell csr-col--right \"><span class=\"data-table__title\">% High Meaning<!-- -->:</span><span class=\"data-table__value\">34%</span></td></tr><tr class=\"data-table__row\"><td class=\"data-table__cell csr-col--rank \"><span class=\"data-table__title\">Rank<!-- -->:</span><span class=\"data-table__value\">20</span></td><td class=\"data-table__cell csr-col--school-name \"><span class=\"data-table__title\">Major<!-- -->:</span><span class=\"data-table__value\"><a href=\"/research/US/Degree=Bachelor%27s_Degree%2C_Marine_Engineering/Salary\">Marine Engineering</a></span></td><td class=\"data-table__cell csr-col--school-type data-table__cell--hidden-mobile\"><span class=\"data-table__title\">Degree Type<!-- -->:</span><span class=\"data-table__value\">Bachelors</span></td><td class=\"data-table__cell csr-col--right \"><span class=\"data-table__title\">Early Career Pay<!-- -->:</span><span class=\"data-table__value\">$74,700</span></td><td class=\"data-table__cell csr-col--right \"><span class=\"data-table__title\">Mid-Career Pay<!-- -->:</span><span class=\"data-table__value\">$125,000</span></td><td class=\"data-table__cell csr-col--right \"><span class=\"data-table__title\">% High Meaning<!-- -->:</span><span class=\"data-table__value\">64%</span></td></tr><tr class=\"data-table__row\"><td class=\"data-table__cell csr-col--rank \"><span class=\"data-table__title\">Rank<!-- -->:</span><span class=\"data-table__value\">21</span></td><td class=\"data-table__cell csr-col--school-name \"><span class=\"data-table__title\">Major<!-- -->:</span><span class=\"data-table__value\"><a href=\"/research/US/Degree=Bachelor%27s_Degree%2C_Computer_Systems_Engineering/Salary\">Computer Systems Engineering</a></span></td><td class=\"data-table__cell csr-col--school-type data-table__cell--hidden-mobile\"><span class=\"data-table__title\">Degree Type<!-- -->:</span><span class=\"data-table__value\">Bachelors</span></td><td class=\"data-table__cell csr-col--right \"><span class=\"data-table__title\">Early Career Pay<!-- -->:</span><span class=\"data-table__value\">$74,600</span></td><td class=\"data-table__cell csr-col--right \"><span class=\"data-table__title\">Mid-Career Pay<!-- -->:</span><span class=\"data-table__value\">$124,800</span></td><td class=\"data-table__cell csr-col--right \"><span class=\"data-table__title\">% High Meaning<!-- -->:</span><span class=\"data-table__value\">49%</span></td></tr><tr class=\"data-table__row\"><td class=\"data-table__cell csr-col--rank \"><span class=\"data-table__title\">Rank<!-- -->:</span><span class=\"data-table__value\">22</span></td><td class=\"data-table__cell csr-col--school-name \"><span class=\"data-table__title\">Major<!-- -->:</span><span class=\"data-table__value\"><a href=\"/research/US/Degree=Bachelor%27s_Degree%2C_Nuclear_Engineering/Salary\">Nuclear Engineering</a></span></td><td class=\"data-table__cell csr-col--school-type data-table__cell--hidden-mobile\"><span class=\"data-table__title\">Degree Type<!-- -->:</span><span class=\"data-table__value\">Bachelors</span></td><td class=\"data-table__cell csr-col--right \"><span class=\"data-table__title\">Early Career Pay<!-- -->:</span><span class=\"data-table__value\">$73,100</span></td><td class=\"data-table__cell csr-col--right \"><span class=\"data-table__title\">Mid-Career Pay<!-- -->:</span><span class=\"data-table__value\">$124,500</span></td><td class=\"data-table__cell csr-col--right \"><span class=\"data-table__title\">% High Meaning<!-- -->:</span><span class=\"data-table__value\">63%</span></td></tr><tr class=\"data-table__row\"><td class=\"data-table__cell csr-col--rank \"><span class=\"data-table__title\">Rank<!-- -->:</span><span class=\"data-table__value\">23</span></td><td class=\"data-table__cell csr-col--school-name \"><span class=\"data-table__title\">Major<!-- -->:</span><span class=\"data-table__value\"><a href=\"/research/US/Degree=Bachelor%27s_Degree%2C_Computer_Science_(CS)_%26_Engineering/Salary\">Computer Science (CS) &amp; Engineering</a></span></td><td class=\"data-table__cell csr-col--school-type data-table__cell--hidden-mobile\"><span class=\"data-table__title\">Degree Type<!-- -->:</span><span class=\"data-table__value\">Bachelors</span></td><td class=\"data-table__cell csr-col--right \"><span class=\"data-table__title\">Early Career Pay<!-- -->:</span><span class=\"data-table__value\">$74,000</span></td><td class=\"data-table__cell csr-col--right \"><span class=\"data-table__title\">Mid-Career Pay<!-- -->:</span><span class=\"data-table__value\">$124,000</span></td><td class=\"data-table__cell csr-col--right \"><span class=\"data-table__title\">% High Meaning<!-- -->:</span><span class=\"data-table__value\">44%</span></td></tr><tr class=\"data-table__row\"><td class=\"data-table__cell csr-col--rank \"><span class=\"data-table__title\">Rank<!-- -->:</span><span class=\"data-table__value\">24</span></td><td class=\"data-table__cell csr-col--school-name \"><span class=\"data-table__title\">Major<!-- -->:</span><span class=\"data-table__value\"><a href=\"/research/US/Degree=Bachelor%27s_Degree%2C_Corporate_Accounting_%26_Finance/Salary\">Corporate Accounting &amp; Finance</a></span></td><td class=\"data-table__cell csr-col--school-type data-table__cell--hidden-mobile\"><span class=\"data-table__title\">Degree Type<!-- -->:</span><span class=\"data-table__value\">Bachelors</span></td><td class=\"data-table__cell csr-col--right \"><span class=\"data-table__title\">Early Career Pay<!-- -->:</span><span class=\"data-table__value\">$61,200</span></td><td class=\"data-table__cell csr-col--right \"><span class=\"data-table__title\">Mid-Career Pay<!-- -->:</span><span class=\"data-table__value\">$123,600</span></td><td class=\"data-table__cell csr-col--right \"><span class=\"data-table__title\">% High Meaning<!-- -->:</span><span class=\"data-table__value\">57%</span></td></tr><tr class=\"data-table__row\"><td class=\"data-table__cell csr-col--rank \"><span class=\"data-table__title\">Rank<!-- -->:</span><span class=\"data-table__value\">25</span></td><td class=\"data-table__cell csr-col--school-name \"><span class=\"data-table__title\">Major<!-- -->:</span><span class=\"data-table__value\"><a href=\"/research/US/Degree=Bachelor%27s_Degree%2C_Electrical_%26_Computer_Engineering_(ECE)/Salary\">Electrical &amp; Computer Engineering (ECE)</a></span></td><td class=\"data-table__cell csr-col--school-type data-table__cell--hidden-mobile\"><span class=\"data-table__title\">Degree Type<!-- -->:</span><span class=\"data-table__value\">Bachelors</span></td><td class=\"data-table__cell csr-col--right \"><span class=\"data-table__title\">Early Career Pay<!-- -->:</span><span class=\"data-table__value\">$73,900</span></td><td class=\"data-table__cell csr-col--right \"><span class=\"data-table__title\">Mid-Career Pay<!-- -->:</span><span class=\"data-table__value\">$123,300</span></td><td class=\"data-table__cell csr-col--right \"><span class=\"data-table__title\">% High Meaning<!-- -->:</span><span class=\"data-table__value\">49%</span></td></tr></tbody></table>\n"
          ],
          "name": "stdout"
        }
      ]
    },
    {
      "cell_type": "code",
      "metadata": {
        "colab": {
          "base_uri": "https://localhost:8080/"
        },
        "id": "CWkLRdHzgwZx",
        "outputId": "b60dd850-ae2a-4102-a616-b04e64df9678"
      },
      "source": [
        "headers_raw = []\n",
        "for i in table_data.find_all('th'):\n",
        "    title = i.text.split(\"\\n\")[:1]\n",
        "    headers_raw.append(title)\n",
        "\n",
        "headers = []\n",
        "for i in headers_raw:\n",
        "    for j in i:\n",
        "        headers.append(j)\n",
        "        \n",
        "print(headers)"
      ],
      "execution_count": 140,
      "outputs": [
        {
          "output_type": "stream",
          "text": [
            "['Rank', 'Major', 'Degree Type', 'Early Career Pay', 'Mid-Career Pay', '% High Meaning']\n"
          ],
          "name": "stdout"
        }
      ]
    },
    {
      "cell_type": "code",
      "metadata": {
        "id": "yyvVqDEhjNLg"
      },
      "source": [
        "df = pd.DataFrame(columns = headers)"
      ],
      "execution_count": 141,
      "outputs": []
    },
    {
      "cell_type": "code",
      "metadata": {
        "colab": {
          "base_uri": "https://localhost:8080/"
        },
        "id": "fp1EnMS1i_X1",
        "outputId": "4e79825b-30e2-4b3a-908b-b84135e863c2"
      },
      "source": [
        "print(df.columns)"
      ],
      "execution_count": 24,
      "outputs": [
        {
          "output_type": "stream",
          "text": [
            "Index(['Rank', 'Major', 'Degree Type', 'Early Career Pay', 'Mid-Career Pay',\n",
            "       '% High Meaning'],\n",
            "      dtype='object')\n"
          ],
          "name": "stdout"
        }
      ]
    },
    {
      "cell_type": "code",
      "metadata": {
        "id": "C9xLlCrxd008"
      },
      "source": [
        "for j in table_data.find_all('tr')[1:]:\n",
        "    row_data = j.find_all('td')\n",
        "    row = [tr.text.split(':')[1] for tr in row_data]\n",
        "    length = len(df)\n",
        "    df.loc[length] = row"
      ],
      "execution_count": 25,
      "outputs": []
    },
    {
      "cell_type": "code",
      "metadata": {
        "colab": {
          "base_uri": "https://localhost:8080/"
        },
        "id": "S0vXimy4jfB8",
        "outputId": "3e3ac510-c675-4d15-ee04-e88e60bbb1b2"
      },
      "source": [
        "df.shape"
      ],
      "execution_count": 149,
      "outputs": [
        {
          "output_type": "execute_result",
          "data": {
            "text/plain": [
              "(9, 6)"
            ]
          },
          "metadata": {
            "tags": []
          },
          "execution_count": 149
        }
      ]
    },
    {
      "cell_type": "code",
      "metadata": {
        "id": "0SXUP91bnqkc",
        "colab": {
          "base_uri": "https://localhost:8080/",
          "height": 206
        },
        "outputId": "98764edd-47a0-4b17-bec6-26ca2f46deef"
      },
      "source": [
        "df.head()"
      ],
      "execution_count": 147,
      "outputs": [
        {
          "output_type": "execute_result",
          "data": {
            "text/html": [
              "<div>\n",
              "<style scoped>\n",
              "    .dataframe tbody tr th:only-of-type {\n",
              "        vertical-align: middle;\n",
              "    }\n",
              "\n",
              "    .dataframe tbody tr th {\n",
              "        vertical-align: top;\n",
              "    }\n",
              "\n",
              "    .dataframe thead th {\n",
              "        text-align: right;\n",
              "    }\n",
              "</style>\n",
              "<table border=\"1\" class=\"dataframe\">\n",
              "  <thead>\n",
              "    <tr style=\"text-align: right;\">\n",
              "      <th></th>\n",
              "      <th>Rank</th>\n",
              "      <th>Major</th>\n",
              "      <th>Degree Type</th>\n",
              "      <th>Early Career Pay</th>\n",
              "      <th>Mid-Career Pay</th>\n",
              "      <th>% High Meaning</th>\n",
              "    </tr>\n",
              "  </thead>\n",
              "  <tbody>\n",
              "    <tr>\n",
              "      <th>0</th>\n",
              "      <td>826</td>\n",
              "      <td>Rehabilitation Counseling</td>\n",
              "      <td>Bachelors</td>\n",
              "      <td>$38,000</td>\n",
              "      <td>$46,100</td>\n",
              "      <td>-</td>\n",
              "    </tr>\n",
              "    <tr>\n",
              "      <th>1</th>\n",
              "      <td>827</td>\n",
              "      <td>Addiction Studies</td>\n",
              "      <td>Bachelors</td>\n",
              "      <td>$36,300</td>\n",
              "      <td>$44,800</td>\n",
              "      <td>83%</td>\n",
              "    </tr>\n",
              "    <tr>\n",
              "      <th>2</th>\n",
              "      <td>828</td>\n",
              "      <td>Outdoor Education</td>\n",
              "      <td>Bachelors</td>\n",
              "      <td>$35,800</td>\n",
              "      <td>$44,200</td>\n",
              "      <td>57%</td>\n",
              "    </tr>\n",
              "    <tr>\n",
              "      <th>3</th>\n",
              "      <td>829</td>\n",
              "      <td>Child &amp; Family Studies</td>\n",
              "      <td>Bachelors</td>\n",
              "      <td>$34,100</td>\n",
              "      <td>$43,600</td>\n",
              "      <td>74%</td>\n",
              "    </tr>\n",
              "    <tr>\n",
              "      <th>4</th>\n",
              "      <td>830</td>\n",
              "      <td>Early Childhood Education</td>\n",
              "      <td>Bachelors</td>\n",
              "      <td>$34,100</td>\n",
              "      <td>$43,300</td>\n",
              "      <td>78%</td>\n",
              "    </tr>\n",
              "  </tbody>\n",
              "</table>\n",
              "</div>"
            ],
            "text/plain": [
              "  Rank                      Major  ... Mid-Career Pay % High Meaning\n",
              "0  826  Rehabilitation Counseling  ...        $46,100              -\n",
              "1  827          Addiction Studies  ...        $44,800            83%\n",
              "2  828          Outdoor Education  ...        $44,200            57%\n",
              "3  829     Child & Family Studies  ...        $43,600            74%\n",
              "4  830  Early Childhood Education  ...        $43,300            78%\n",
              "\n",
              "[5 rows x 6 columns]"
            ]
          },
          "metadata": {
            "tags": []
          },
          "execution_count": 147
        }
      ]
    },
    {
      "cell_type": "code",
      "metadata": {
        "id": "wRGFmr_ZuD-X"
      },
      "source": [
        ""
      ],
      "execution_count": null,
      "outputs": []
    }
  ]
}